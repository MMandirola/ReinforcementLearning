{
 "cells": [
  {
   "cell_type": "markdown",
   "metadata": {},
   "source": [
    "# Value Iteration\n",
    "\n",
    "Vamos a ver como la programación dinamica se puede utilizar para derivar políticas óptimas para algunos ambientes. En este caso particular vamos a utilizar dos ambientes definidos en el libro de Sutton y Barto. \n",
    "\n",
    "Es recomendable leer el capítulo 4 del libro para entender a fondo todos los conceptos.\n",
    "\n",
    "## A entregar:\n",
    "\n",
    "- Notebook con el algoritmo de value iteration implementado (hecho en clase)\n",
    "- Comentarios sobre funciones implementadas en clase, que hacen y que es cada parametro.\n",
    "- Reporte con funciones de valor para diferentes tamaños de ambiente.\n",
    "- Reporte con graficas sobre el numero de iteraciones del algoritmo para diferentes tamaños de ambiente.\n"
   ]
  },
  {
   "cell_type": "markdown",
   "metadata": {},
   "source": [
    "## Definicion del ambiente\n",
    "\n",
    "En este caso vamos a usar como ambiente algo muy sencillo, Gridworld (del libro de Sutton y Barto). Basicamente se trata de una grilla rectangular de posibles posiciones donde los estados terminales se encuentran en la esquina superior izquierda ([0,0] en coordenadas) y en la esquina inferior derecha ([largo - 1, ancho - 1] en coordenadas). \n",
    "\n",
    "El objetivo es obtener la función de valor óptima para el entorno en el que estamos.\n",
    "\n",
    "Comenzamos definiendo el ambiente como una clase Python abajo, esto nos va a permitir crear varios ambientes de prueba para probar nuestro algoritmo y encontrar la función optima para todos."
   ]
  },
  {
   "cell_type": "code",
   "execution_count": 4,
   "metadata": {},
   "outputs": [],
   "source": [
    "# Necessary imports\n",
    "import io\n",
    "import sys\n",
    "import numpy as np\n",
    "from gym.envs.toy_text import discrete\n",
    "\n",
    "\n",
    "# Possible Actions\n",
    "UP = 0\n",
    "RIGHT = 1\n",
    "DOWN = 2\n",
    "LEFT = 3"
   ]
  },
  {
   "cell_type": "code",
   "execution_count": 5,
   "metadata": {},
   "outputs": [],
   "source": [
    "class GridworldEnv(discrete.DiscreteEnv):\n",
    "    \"\"\"\n",
    "    ****\n",
    "    Forked from: https://github.com/dennybritz/reinforcement-learning/blob/master/lib/envs/gridworld.py\n",
    "    ****\n",
    "    Grid World environment from Sutton's Reinforcement Learning book chapter 4.\n",
    "    You are an agent on an MxN grid and your goal is to reach the terminal\n",
    "    state at the top left or the bottom right corner.\n",
    "\n",
    "    For example, a 4x4 grid looks as follows:\n",
    "\n",
    "    T  o  o  o\n",
    "    o  x  o  o\n",
    "    o  o  o  o\n",
    "    o  o  o  T\n",
    "\n",
    "    x is your position and T are the two terminal states.\n",
    "\n",
    "    You can take actions in each direction (UP=0, RIGHT=1, DOWN=2, LEFT=3).\n",
    "    Actions going off the edge leave you in your current state.\n",
    "    You receive a reward of -1 at each step until you reach a terminal state.\n",
    "    \"\"\"\n",
    "\n",
    "    def __init__(self, shape=[4,4]):\n",
    "        if not isinstance(shape, (list, tuple)) or not len(shape) == 2:\n",
    "            raise ValueError('Shape argument must be a list/tuple of length 2')\n",
    "\n",
    "        self.shape = shape\n",
    "\n",
    "        number_states = np.prod(shape)\n",
    "        number_actions = 4\n",
    "        \n",
    "        self.number_actions = number_actions\n",
    "        self.number_states = number_states\n",
    "\n",
    "        MAX_Y = shape[0]\n",
    "        MAX_X = shape[1]\n",
    "\n",
    "        transition_probabilities = {}\n",
    "        grid = np.arange(number_states).reshape(shape)\n",
    "        it = np.nditer(grid, flags=['multi_index'])\n",
    "\n",
    "        while not it.finished:\n",
    "            s = it.iterindex\n",
    "            y, x = it.multi_index\n",
    "\n",
    "            transition_probabilities[s] = {a : [] for a in range(number_actions)}\n",
    "\n",
    "            is_done = lambda s: s == 0 or s == (number_states - 1)\n",
    "            reward = 0.0 if is_done(s) else -1.0\n",
    "\n",
    "            # We're stuck in a terminal state\n",
    "            if is_done(s):\n",
    "                transition_probabilities[s][UP] = [(1.0, s, reward, True)]\n",
    "                transition_probabilities[s][RIGHT] = [(1.0, s, reward, True)]\n",
    "                transition_probabilities[s][DOWN] = [(1.0, s, reward, True)]\n",
    "                transition_probabilities[s][LEFT] = [(1.0, s, reward, True)]\n",
    "            # Not a terminal state\n",
    "            else:\n",
    "                ns_up = s if y == 0 else s - MAX_X\n",
    "                ns_right = s if x == (MAX_X - 1) else s + 1\n",
    "                ns_down = s if y == (MAX_Y - 1) else s + MAX_X\n",
    "                ns_left = s if x == 0 else s - 1\n",
    "                transition_probabilities[s][UP] = [(1.0, ns_up, reward, is_done(ns_up))]\n",
    "                transition_probabilities[s][RIGHT] = [(1.0, ns_right, reward, is_done(ns_right))]\n",
    "                transition_probabilities[s][DOWN] = [(1.0, ns_down, reward, is_done(ns_down))]\n",
    "                transition_probabilities[s][LEFT] = [(1.0, ns_left, reward, is_done(ns_left))]\n",
    "\n",
    "            it.iternext()\n",
    "\n",
    "        # Initial state distribution is uniform\n",
    "        isd = np.ones(number_states) / number_states\n",
    "\n",
    "        # We expose the model of the environment for educational purposes\n",
    "        # This should not be used in any model-free learning algorithm\n",
    "        self.transition_probabilities = transition_probabilities\n",
    "\n",
    "        super(GridworldEnv, self).__init__(number_states, number_actions, transition_probabilities, isd)"
   ]
  },
  {
   "cell_type": "markdown",
   "metadata": {},
   "source": [
    "## Inicializando una nueva instancia del ambiente\n",
    "\n",
    "En la celda de abajo vamos a crear una nueva instancia del ambiente definido arriba. En este caso, y por ser un ejemplo, conocemos la funcion de transición del ambiente (llamada `transition_probabilities`). Esta función nos dice, para cada estado, el resultado de tomar cada accion posible.\n",
    "\n",
    "*** \n",
    "\n",
    "Esta funcion esta representada por tuplas de la forma: `(Probabilidad, estado_siguiente, recompensa, estado_final)`. \n",
    "\n",
    "- Al ser un ambiente deterministico las **probabilidades** son siempre 1 (al tomar una accion tenemos 100% de chances de caer en el siguiente estado, otros casos una acción podría tener una distribuccion de probabilidades sobre todos los estados posibles).\n",
    "\n",
    "- Los **estados_siguientes** apuntan a dónde mirar en la funcion de transición.\n",
    "\n",
    "- Las **recompensas** como se mencionó arriba son siempre -1 por cada movimiento, excepto cuando estamos en un estado final.\n",
    "\n",
    "- El **estad_final** es un flag booleano (Verdadero o Falso) que nos dice si el estado al que nos movemos es final o no.\n",
    "\n",
    "***\n",
    "\n",
    "Por ejemplo: si estamos en el estado 0, tomar cualquier accion tiene recompensa 0, con probabilidad 100% (es un ambiente determinístico) y "
   ]
  },
  {
   "cell_type": "code",
   "execution_count": 6,
   "metadata": {
    "scrolled": true
   },
   "outputs": [
    {
     "data": {
      "text/plain": [
       "{0: {0: [(1.0, 0, 0.0, True)],\n",
       "  1: [(1.0, 0, 0.0, True)],\n",
       "  2: [(1.0, 0, 0.0, True)],\n",
       "  3: [(1.0, 0, 0.0, True)]},\n",
       " 1: {0: [(1.0, 1, -1.0, False)],\n",
       "  1: [(1.0, 2, -1.0, False)],\n",
       "  2: [(1.0, 5, -1.0, False)],\n",
       "  3: [(1.0, 0, -1.0, True)]},\n",
       " 2: {0: [(1.0, 2, -1.0, False)],\n",
       "  1: [(1.0, 3, -1.0, False)],\n",
       "  2: [(1.0, 6, -1.0, False)],\n",
       "  3: [(1.0, 1, -1.0, False)]},\n",
       " 3: {0: [(1.0, 3, -1.0, False)],\n",
       "  1: [(1.0, 3, -1.0, False)],\n",
       "  2: [(1.0, 7, -1.0, False)],\n",
       "  3: [(1.0, 2, -1.0, False)]},\n",
       " 4: {0: [(1.0, 0, -1.0, True)],\n",
       "  1: [(1.0, 5, -1.0, False)],\n",
       "  2: [(1.0, 8, -1.0, False)],\n",
       "  3: [(1.0, 4, -1.0, False)]},\n",
       " 5: {0: [(1.0, 1, -1.0, False)],\n",
       "  1: [(1.0, 6, -1.0, False)],\n",
       "  2: [(1.0, 9, -1.0, False)],\n",
       "  3: [(1.0, 4, -1.0, False)]},\n",
       " 6: {0: [(1.0, 2, -1.0, False)],\n",
       "  1: [(1.0, 7, -1.0, False)],\n",
       "  2: [(1.0, 10, -1.0, False)],\n",
       "  3: [(1.0, 5, -1.0, False)]},\n",
       " 7: {0: [(1.0, 3, -1.0, False)],\n",
       "  1: [(1.0, 7, -1.0, False)],\n",
       "  2: [(1.0, 11, -1.0, False)],\n",
       "  3: [(1.0, 6, -1.0, False)]},\n",
       " 8: {0: [(1.0, 4, -1.0, False)],\n",
       "  1: [(1.0, 9, -1.0, False)],\n",
       "  2: [(1.0, 12, -1.0, False)],\n",
       "  3: [(1.0, 8, -1.0, False)]},\n",
       " 9: {0: [(1.0, 5, -1.0, False)],\n",
       "  1: [(1.0, 10, -1.0, False)],\n",
       "  2: [(1.0, 13, -1.0, False)],\n",
       "  3: [(1.0, 8, -1.0, False)]},\n",
       " 10: {0: [(1.0, 6, -1.0, False)],\n",
       "  1: [(1.0, 11, -1.0, False)],\n",
       "  2: [(1.0, 14, -1.0, False)],\n",
       "  3: [(1.0, 9, -1.0, False)]},\n",
       " 11: {0: [(1.0, 7, -1.0, False)],\n",
       "  1: [(1.0, 11, -1.0, False)],\n",
       "  2: [(1.0, 15, -1.0, True)],\n",
       "  3: [(1.0, 10, -1.0, False)]},\n",
       " 12: {0: [(1.0, 8, -1.0, False)],\n",
       "  1: [(1.0, 13, -1.0, False)],\n",
       "  2: [(1.0, 12, -1.0, False)],\n",
       "  3: [(1.0, 12, -1.0, False)]},\n",
       " 13: {0: [(1.0, 9, -1.0, False)],\n",
       "  1: [(1.0, 14, -1.0, False)],\n",
       "  2: [(1.0, 13, -1.0, False)],\n",
       "  3: [(1.0, 12, -1.0, False)]},\n",
       " 14: {0: [(1.0, 10, -1.0, False)],\n",
       "  1: [(1.0, 15, -1.0, True)],\n",
       "  2: [(1.0, 14, -1.0, False)],\n",
       "  3: [(1.0, 13, -1.0, False)]},\n",
       " 15: {0: [(1.0, 15, 0.0, True)],\n",
       "  1: [(1.0, 15, 0.0, True)],\n",
       "  2: [(1.0, 15, 0.0, True)],\n",
       "  3: [(1.0, 15, 0.0, True)]}}"
      ]
     },
     "execution_count": 6,
     "metadata": {},
     "output_type": "execute_result"
    }
   ],
   "source": [
    "grid = GridworldEnv()   # Create a new gridworld object\n",
    "grid.transition_probabilities\n",
    "\n",
    "# Recordar: \n",
    "# UP = 0\n",
    "# RIGHT = 1\n",
    "# DOWN = 2\n",
    "# LEFT = 3"
   ]
  },
  {
   "cell_type": "markdown",
   "metadata": {},
   "source": [
    "## Recordando Value Iteration del libro de Sutton y Barto:\n",
    "\n",
    "![Image](https://i.imgur.com/PBtFBCG.png)\n",
    "\n",
    "\n",
    "Este es el algoritmo que vamos a implementar en las celdas siguientes.\n",
    "\n",
    "La función de valor del ambiente anterior debería ser:\n",
    "[ 0. -1. -2. -3. -1. -2. -3. -2. -2. -3. -2. -1. -3. -2. -1.  0.]"
   ]
  },
  {
   "cell_type": "code",
   "execution_count": 7,
   "metadata": {},
   "outputs": [],
   "source": [
    "def value_iteration(env, gamma=1, theta=0.001):\n",
    "    '''\n",
    "    Applies the value iteration algorithm\n",
    "    PARAMS\n",
    "        <env>: Grid world environment\n",
    "        <gamma>: Gamma\n",
    "        <theta>: Theta\n",
    "    RETURN\n",
    "        (v, policy, iterations)\n",
    "        <v>: optimal policy value\n",
    "        <policy> optimal policy\n",
    "        <iterations> number of iterations\n",
    "    '''\n",
    "    delta = theta\n",
    "    n_states = env.number_states\n",
    "    v = np.zeros(n_states)\n",
    "    iterations = 0\n",
    "    while(delta >= theta):\n",
    "        next_v = np.copy(v)\n",
    "        for i in range(1, n_states - 1):\n",
    "            values, iterations = calculate_action_values(env, i, v, gamma, iterations)\n",
    "            next_v[i] = max(values)\n",
    "        deltas = np.absolute(np.diff([v, next_v], axis=0))\n",
    "        v = next_v\n",
    "        delta = np.max(deltas)\n",
    "    policy = np.ones(n_states) * -1\n",
    "    for i in range(1, n_states -1):\n",
    "        values, iterations = calculate_action_values(env, i, v, gamma, iterations)\n",
    "        policy[i] = np.argmax(values, axis=0)\n",
    "    return v, policy, iterations"
   ]
  },
  {
   "cell_type": "code",
   "execution_count": 8,
   "metadata": {},
   "outputs": [],
   "source": [
    "def calculate_action_values(env, state, v, gamma, iterations=0):\n",
    "    '''\n",
    "    Given a state and the previous value of the iteration, calculates the\n",
    "    q for each action\n",
    "    PARAMS\n",
    "        <env>: Grid world environment\n",
    "        <state>: State in which the q will be calculated for all actions\n",
    "        <v>: Previous iteration value\n",
    "        <gamma>: Gamma\n",
    "        <iterations> Current Iteration counter\n",
    "    RETURN\n",
    "        (totals, iterations)\n",
    "        <totals>: q in that state for each possible action\n",
    "        <iterations> number of iterations\n",
    "    '''\n",
    "    totals = np.zeros(env.number_actions)\n",
    "    p_state = env.transition_probabilities[state]\n",
    "    for action, p_state_action in p_state.items():\n",
    "        for (p, next_state, reward, _) in p_state_action:\n",
    "            iterations += 1\n",
    "            totals[action] += p * (reward + gamma * v[next_state])\n",
    "    return totals, iterations\n",
    "        \n",
    "    "
   ]
  },
  {
   "cell_type": "code",
   "execution_count": 9,
   "metadata": {},
   "outputs": [],
   "source": [
    "v, policy, iterations = value_iteration(grid)\n",
    "assert(list(v) == [ 0, -1, -2, -3, -1, -2, -3, -2, -2, -3, -2, -1, -3, -2, -1, 0])"
   ]
  },
  {
   "cell_type": "code",
   "execution_count": 18,
   "metadata": {},
   "outputs": [
    {
     "name": "stdout",
     "output_type": "stream",
     "text": [
      "[0.0, 24.0, 112.0, 280.0, 552.0, 952.0, 1504.0, 2232.0, 3160.0, 4312.0]\n"
     ]
    }
   ],
   "source": [
    "sizes = [1, 2, 3, 4, 5, 6, 7, 8, 9, 10]\n",
    "times = 2000\n",
    "\n",
    "\n",
    "dataset = []\n",
    "for i in range(len(sizes)):\n",
    "    size_dataset = []\n",
    "    for j in range(times):\n",
    "        size_dataset.append(GridworldEnv([sizes[i], sizes[i]]))\n",
    "    dataset.append(size_dataset)\n",
    "\n",
    "def mean_iterations(envs):\n",
    "    return np.mean([value_iteration(env)[2] for env in envs])\n",
    "\n",
    "results = list(map(mean_iterations, dataset))\n",
    "print(results)"
   ]
  },
  {
   "cell_type": "code",
   "execution_count": 22,
   "metadata": {},
   "outputs": [
    {
     "data": {
      "text/plain": [
       "[<matplotlib.lines.Line2D at 0x7fcf8d3c1e20>]"
      ]
     },
     "execution_count": 22,
     "metadata": {},
     "output_type": "execute_result"
    },
    {
     "data": {
      "image/png": "[encoded data removed]",
      "text/plain": [
       "<Figure size 432x288 with 1 Axes>"
      ]
     },
     "metadata": {
      "needs_background": "light"
     },
     "output_type": "display_data"
    }
   ],
   "source": [
    "import matplotlib.pyplot as plt\n",
    "\n",
    "\n",
    "fig, ax = plt.subplots()\n",
    "ax.plot(sizes, results)"
   ]
  },
  {
   "cell_type": "code",
   "execution_count": 24,
   "metadata": {},
   "outputs": [
    {
     "data": {
      "text/plain": [
       "[<matplotlib.lines.Line2D at 0x7fcf8d3a7b50>]"
      ]
     },
     "execution_count": 24,
     "metadata": {},
     "output_type": "execute_result"
    },
    {
     "data": {
      "image/png": "[encoded data removed]",
      "text/plain": [
       "<Figure size 432x288 with 1 Axes>"
      ]
     },
     "metadata": {
      "needs_background": "light"
     },
     "output_type": "display_data"
    }
   ],
   "source": [
    "fig, ax = plt.subplots()\n",
    "ax.plot(list(map(lambda x : x * x, sizes)), results)"
   ]
  },
  {
   "cell_type": "markdown",
   "metadata": {},
   "source": [
    "#### Comentarios:\n",
    "\n",
    "Cómo vémos en ambas gráficas, la cantidad de iteraciones es exponencial con respecto al largo de la grilla y es más lineal con respecto al número de estados"
   ]
  }
 ],
 "metadata": {
  "kernelspec": {
   "display_name": "Python 3",
   "language": "python",
   "name": "python3"
  },
  "language_info": {
   "codemirror_mode": {
    "name": "ipython",
    "version": 3
   },
   "file_extension": ".py",
   "mimetype": "text/x-python",
   "name": "python",
   "nbconvert_exporter": "python",
   "pygments_lexer": "ipython3",
   "version": "3.8.6"
  }
 },
 "nbformat": 4,
 "nbformat_minor": 4
}
